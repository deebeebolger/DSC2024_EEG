{
 "cells": [
  {
   "cell_type": "markdown",
   "id": "d188f9a6",
   "metadata": {},
   "source": [
    "## The basics of visualizing, manipulating and processing EEG data\n",
    "\n",
    "In this script you will be instroduced to the basics of visualizing, manipulating and processing electroencephalography data.\n",
    "A python package dedicated to the analysis of MEG and EEG data, MNE-Python is used. \n",
    "\n",
    "We will use a dataset recorded during a      task"
   ]
  },
  {
   "cell_type": "code",
   "execution_count": null,
   "id": "d7704961",
   "metadata": {},
   "outputs": [],
   "source": [
    "# import the required packages and load in the data file (in *.bdf)\n",
    "import mne\n",
    "import matplotlib.pyplot as plt\n",
    "import os\n",
    "import numpy as np\n",
    "\n",
    "%matplotlib  #magic command to permit interactive plotting in Jupyter\n",
    "\n",
    "fname = 'sub-001_eeg_sub-001_task-think1_eeg.bdf'\n",
    "filepath = 'data'\n",
    "fullpath = os.path.join(filepath, fname)\n",
    "rawIn = mne.io.read_raw_bdf(fullpath, preload=True)   # Load in the raw data.\n",
    "rawIn.plot()    # Plot the raw, continuous data.\n"
   ]
  },
  {
   "cell_type": "markdown",
   "id": "b173c137",
   "metadata": {},
   "source": [
    "## Define the channel types and scalings\n",
    "\n",
    "EXG1 and EXG2: HEOG (horizontal electrooculogram)\n",
    "EXG3 and EXG4: VEOG (vertical electrooculogram or eye-blinks)\n",
    "EXG7: ECG (electro-cardiogram)\n",
    "EXG5: Mastoid 1\n",
    "EXG6: Mastoid 2\n",
    "EXG8: Fp1 electrode\n",
    "\n",
    "Now we will set the auxiliary channels to type MISC, EXG1-6 to eog and the stimulus channel to 'stim'\n",
    "By doing this each data type is scaled appropriately when visualized. "
   ]
  },
  {
   "cell_type": "code",
   "execution_count": null,
   "id": "4eae8aef",
   "metadata": {},
   "outputs": [],
   "source": [
    "my_dict = {'EXG1': 'eog', 'EXG2': 'eog', 'EXG3': 'eog', 'EXG4': 'eog', 'EXG5': 'eog', 'EXG6': 'eog', 'EXG7': 'eog',\n",
    "           'EXG8': 'eog',\n",
    "           'GSR1': 'misc', 'GSR2': 'misc', 'Erg1': 'stim', 'Erg2': 'stim', 'Resp': 'resp', 'Plet': 'misc',\n",
    "           'Temp': 'misc', 'Status': 'stim'}\n",
    "print(my_dict)\n",
    "rawIn.set_channel_types(my_dict)  # Apply the channel type to our raw object.\n",
    "mne.viz.plot_raw(rawIn, duration=5.0, scalings=\"auto\", remove_dc=True)  # Plot again the Channels X Time\n"
   ]
  },
  {
   "cell_type": "markdown",
   "id": "d4ff5a13",
   "metadata": {},
   "source": [
    "## Getting basic dataset information\n",
    "\n",
    "We will extract some basic information about the dataset by looking at the **rawIn.info** attribute.\n",
    "This contains the **.info** object, which is a python dictionary. "
   ]
  },
  {
   "cell_type": "code",
   "execution_count": null,
   "id": "89bd0b9b",
   "metadata": {},
   "outputs": [],
   "source": [
    "print(rawIn.info)  # Visualising all dataset information\n",
    "print(rawIn.info['sfreq'])  # Display the sampling frequency"
   ]
  },
  {
   "cell_type": "markdown",
   "id": "17ad0482",
   "metadata": {},
   "source": [
    "## Exercise 1...\n",
    "\n",
    "Display the following information:\n",
    "- channel names\n",
    "- the number and the type of channels\n",
    "Put the code in the cell below"
   ]
  },
  {
   "cell_type": "code",
   "execution_count": null,
   "id": "6e5b70df",
   "metadata": {},
   "outputs": [],
   "source": [
    "# Put your code here..."
   ]
  },
  {
   "cell_type": "code",
   "execution_count": null,
   "id": "9d01fc93",
   "metadata": {},
   "outputs": [],
   "source": [
    "# We can pass the information contained in the .info object to a new variable.\n",
    "\n",
    "sfreq = rawIn.info['sfreq']  # assign the sampling frequency value to sfreq\n",
    "print('The sampling frequency of the current dataset is {} Hz.'.format(sfreq))  # using .format() method to print variable."
   ]
  },
  {
   "cell_type": "markdown",
   "id": "54bfa1fe",
   "metadata": {},
   "source": [
    "## Extracting the data from the raw file\n",
    "\n",
    "Here we extract the data from the rawIn variable. \n",
    "The data variable is in the form of a **Channels** X **Time** matrix.\n",
    "We then get the dimensions of the data extracted."
   ]
  },
  {
   "cell_type": "code",
   "execution_count": null,
   "id": "fccc9de9",
   "metadata": {},
   "outputs": [],
   "source": [
    "dataIn = rawIn.get_data()                                                          \n",
    "dataDims = dataIn.shape                                                            \n",
    "print(f'The number of channels in the current raw dataset is {dataDims[0]}.\\n')    \n",
    "print(f'The number of time samples in the current raw dataset is {dataDims[1]}.\\n')"
   ]
  },
  {
   "cell_type": "markdown",
   "id": "43ee6763",
   "metadata": {},
   "source": [
    "## Exercise 2\n",
    "\n",
    "Now that you know the sampling frequency (Hz) and the number of data samples,                            \n",
    "try to do the following:                                                                                 \n",
    "- calculate the duration of the data in seconds.                                                         \n",
    "- create the time vector \n",
    "\n",
    "Remember that the sampling frequency tells you how many time samples there are in 1 second of data.      \n",
    "The sampling frequency can be used to calculate the time step from one sample to the next.               "
   ]
  },
  {
   "cell_type": "code",
   "execution_count": null,
   "id": "bf832363",
   "metadata": {},
   "outputs": [],
   "source": [
    "nSamps =                                                   \n",
    "tstep =                                                    \n",
    "T =      # time vector code here.                          \n",
    "                                                           \n",
    "print(f'The length of the time vector is { }')             \n",
    "print(f'The duration of the time vector is { } seconds')   "
   ]
  },
  {
   "cell_type": "markdown",
   "id": "7f726b42",
   "metadata": {},
   "source": [
    "## Plot individual electrodes\n",
    "\n",
    "1. Plot a single electrode over the entire duration \n",
    "\n",
    "We can use the time vector (T) that we constructed\n",
    "                                                 \n",
    "2. Plot a single electrode over a defined time interval\n",
    "3. Plot several electrodes against each other.   "
   ]
  },
  {
   "cell_type": "code",
   "execution_count": null,
   "id": "db98db11",
   "metadata": {},
   "outputs": [],
   "source": [
    "# Plot a single electrode over all time.                                                   \n",
    "channelNames = rawIn.info['ch_names']                                                      \n",
    "chan2plot = 'Cz'                                                                           \n",
    "chanIndx = channelNames.index(chan2plot)                                                   \n",
    "print(f'The index of channel {chan2plot} is {chanIndx}.')                                  \n",
    "                                                                                           \n",
    "plt.plot(T, dataIn[chanIndx, :])                                                           \n",
    "plt.xlabel('time (seconds)')                                                               \n",
    "plt.show()                                                                                                                                                         "
   ]
  },
  {
   "cell_type": "code",
   "execution_count": null,
   "id": "7e850fa3",
   "metadata": {},
   "outputs": [],
   "source": [
    "# Plot a single electrode over a pre-defined time interval.                                \n",
    "\n",
    "timeLims = np.array([60, 70])                                                              \n",
    "lim1, lim2 = (timeLims * sfreq).astype(int)                                                \n",
    "                                                                                           \n",
    "plt.plot(T[lim1:lim2], dataIn[chanIndx, lim1:lim2])                                        \n",
    "plt.xlabel('time (seconds)')                                                               \n",
    "plt.show()  "
   ]
  },
  {
   "cell_type": "code",
   "execution_count": null,
   "id": "58c5b983",
   "metadata": {},
   "outputs": [],
   "source": [
    "# Plot two electrodes against each other                                                   \n",
    "\n",
    "chans2plot = ['Cz', 'Pz']                                                                  \n",
    "channelIndices = [i for i, chan in enumerate(channelNames) if chan in chans2plot]          \n",
    "                                                                                           \n",
    "fig, ax = plt.subplots()                                                                   \n",
    "for idx in channelIndices:                                                                 \n",
    "    ax.plot(T[lim1:lim2], dataIn[idx, lim1:lim2])                                          \n",
    "ax.set_xlabel('time (seconds)')                                                            \n",
    "plt.show()  \n",
    "\n",
    "# Do you notice something odd about the two electrodes? "
   ]
  },
  {
   "cell_type": "code",
   "execution_count": null,
   "id": "6951032b",
   "metadata": {},
   "outputs": [],
   "source": [
    "# We will plot the raw data again in the Channels X Time format, but this time setting\n",
    "# the **remove_dc** parameter to False   \n",
    "\n",
    "mne.viz.plot_raw(rawIn, scalings='auto', remove_dc=False)    "
   ]
  },
  {
   "cell_type": "markdown",
   "id": "501998e5",
   "metadata": {},
   "source": [
    "## The DC Component\n",
    "\n",
    "You notice that none of the electrodes appear to be visible...this is due to what we call the \"**DC Offset**\".                            \n",
    "The acquisition system works on battery, so DC, and it captures ALL the frequencies including the OHz.                                    \n",
    "The OHz is the offset from zero mean.                                                                                                     \n",
    "So we need to remove this offset; after which our signals will have a zero mean.                                                          \n",
    "                                                                                                                    There are different ways of removing the DC Offset:                                                                                                                                                                                                                           \n",
    "We will start by trying to remove the DC offset, by subtracting the mean activity from the activity of one channel.                       \n",
    "Then we will plot the result.                                                                                                             \n",
    "So...                                                                                                                                     \n",
    "- Let's calculate the mean of a few channels.                                                                                             \n",
    "- What do you notice about the means? How do we know that there is a DC offset?                                                           \n",
    "                                                                                                    \n",
    "**Note** also the use of the **copy()** method. We use this to make a copy of the original **RawIn** object.                                   \n",
    "When we apply a method such as, **.pick_channels**, to a raw object, we change that object. Therefore, the copy() method is very useful.                                                                                                                                                                                                   "
   ]
  },
  {
   "cell_type": "code",
   "execution_count": null,
   "id": "d39facb0",
   "metadata": {},
   "outputs": [],
   "source": [
    "# Fill in the missing code...\n",
    "\n",
    "rawInbis = rawIn.copy()  # creating a copy of the raw object.                        \n",
    "rawInbis.pick_channels(['Fz', 'Cz', 'Pz'])                                           \n",
    "dataInbis =   # Get the data of the selected channels.                               \n",
    "dataMean =                                                                           \n",
    "dataMean =   # convert dataMean to a list using the .tolist() method                 \n",
    "                                                                                     \n",
    "print(f'The mean of each electrode is {dataMean}')                                   \n",
    "                                                                                     \n",
    "# Now subtract the mean of each channel for all samples of each channel.             \n",
    "chan_demean1 = np.subtract(dataInbis[0, :], dataMean[0])                             \n",
    "chan_demean2 =                                                                       \n",
    "chan_demean3 =                                                                       "
   ]
  },
  {
   "cell_type": "code",
   "execution_count": null,
   "id": "db951ce3",
   "metadata": {},
   "outputs": [],
   "source": [
    "# Now we will visualize the channel data before and after subtracting the mean.\n",
    "\n",
    "ax1 = plt.subplot(231)       \n",
    "ax1.margins(0.5)             \n",
    "ax1.plot(T, dataIn[0,])      \n",
    "                             \n",
    "ax2 = plt.subplot(232)       \n",
    "ax2.margins(0.5)             \n",
    "ax2.plot(T, dataIn[1,])      \n",
    "                             \n",
    "ax3 = plt.subplot(233)       \n",
    "ax3.margins(0.5)             \n",
    "ax3.plot(T, dataIn[2,])      \n",
    "                             \n",
    "ax4 = plt.subplot(234)       \n",
    "ax4.margins(0.5)             \n",
    "ax4.plot(T, chan_demean1)    \n",
    "                             \n",
    "ax5 = plt.subplot(235)       \n",
    "ax5.margins(0.5)             \n",
    "ax5.plot(T, chan_demean2)    \n",
    "                             \n",
    "ax6 = plt.subplot(236)       \n",
    "ax6.margins(0.5)             \n",
    "ax6.plot(T, chan_demean3)    "
   ]
  },
  {
   "cell_type": "markdown",
   "id": "35c6ac09",
   "metadata": {},
   "source": [
    "## Removing the DC component via high-pass filtering\n",
    "\n",
    "The generally applied approach in EEG data processing is to apply a **high-pass filter** to the EEG data.                         \n",
    "Remember we want to remove the 0Hz, DC component.                                                                             \n",
    "Here we apply a high-pass filter with a cutoff at 0.1Hz. This means that we remove all frequencies below 0.1Hz and retain all \n",
    "frequencies above 0.1Hz.                                                                                                      \n",
    "We will use the **.filter()** method in MNE.                                                                                      "
   ]
  },
  {
   "cell_type": "code",
   "execution_count": null,
   "id": "664bd8c8",
   "metadata": {},
   "outputs": [],
   "source": [
    "# Notice again that we make a copy of the rawIn object before applying the .filter() method.\n",
    "rawInFilt = rawIn.copy().filter(0.1, None,fir_design='firwin')                                                                                     fir_design='firwin')  # Notice that we created a copy of the origin rawIn data before filtering.\n",
    "                                                                                                                                \n",
    "mne.viz.plot_raw(rawInFilt, scalings='auto', remove_dc=False)  # Visualize in Channels X Time format.                           "
   ]
  },
  {
   "cell_type": "markdown",
   "id": "eec051ec",
   "metadata": {},
   "source": [
    "## Re-referencing the data\n",
    "\n",
    "The data needs to be re-referenced. A reference needs to be chosen.                                                          \n",
    "The potential measured in microVolts is always measured in relation to the potential at another point, called the reference. \n",
    "                                                                                                                             \n",
    "This means that the activity at each channel is interpreted relative to the potential at a reference.                        \n",
    "- the reference can be the mean activity of all electrodes.                                                                  \n",
    "- the average of the two mastoids (generally these reference channels are marked as Ref1, Ref2 or EXG1, EXG2)                \n",
    "The current dataset does not have the external (EXG) channels, so we will apply an average reference.                                                                                                                                                 \n",
    "However, we cannot include the bad channels or the VEOG when applying the reference.                                         \n",
    "We use the *pick_types()* method to exclude these channels when applying the average reference.                              \n",
    "                                                                                                                  Here we will re-reference in relation to the average of all scalp electrodes, excluding any electrodes that have been marked as being noisy.                                                                                                       \n",
    "Other options for the reference are the mastoids (M1, M2).                                                                   "
   ]
  },
  {
   "cell_type": "code",
   "execution_count": null,
   "id": "11cdb75d",
   "metadata": {},
   "outputs": [],
   "source": [
    "rawInRef = rawInFilt.copy().pick_types(eeg=True, exclude=['bads', 'eog']).set_eeg_reference()         \n",
    "mne.viz.plot_raw(rawInRef, scalings='auto', remove_dc=False)                                          "
   ]
  },
  {
   "cell_type": "markdown",
   "id": "7f035599",
   "metadata": {},
   "source": [
    "## Plot the spatial distribution of activity (topography) \n",
    "\n",
    "In addition to looking at the signal as a function of time, we can also look at the spatial distribution of the mean activity across all scalp electrodes over a given time interval. This visualization is referred to as a **topography** or a **topographical map**. \n",
    "\n",
    "A topography presenting the average activity over a pre-defined time interval can be used to highlight or study activity at a specific time interval. \n",
    "\n",
    "So, to plot the topography, for each electrode, we need to calculate the average activity over a pre-defined time-interval. This implies that, while we gain an insight into **where** activity is concentrated at a given time, we lose temporal precision and, therefore, information on **when** there is a change in activity. \n",
    "\n",
    "Before we can visualize a topography, we need to define the electrode layout or **montage** that corresponds to the current dataset's configuration. In this example, the electrodes are distributed according to the standard **10-20 layout** . "
   ]
  },
  {
   "cell_type": "code",
   "execution_count": null,
   "id": "af787939",
   "metadata": {},
   "outputs": [],
   "source": [
    "# Load the relevant montage and visualize it.\n",
    "\n",
    "montage = mne.channels.make_standard_montage('standard_1020')  # Assigning the standard 10-20 montage        \n",
    "mne.viz.plot_montage(mne.channels.make_standard_montage('standard_1020'))  # Visualize the montage           \n",
    "rawInRef.set_montage(montage)                                                                                "
   ]
  },
  {
   "cell_type": "code",
   "execution_count": null,
   "id": "926ea495",
   "metadata": {},
   "outputs": [],
   "source": [
    "# Plot the topographies\n",
    "\n",
    "timeIntval = [70, 75]                          # Defining the time interval over which to plot the topography.                               \n",
    "timeIndx = rawInRef.time_as_index(timeIntval)  # Find the indices of the samples in the defined time interval.       \n",
    "chanRange = np.arange(0, 64)                   # We take the only the scalp channels.                                           \n",
    "dataSeg1 = rawInRef.get_data(chanRange, timeIndx[0], timeIndx[1])                                                    \n",
    "dataSeg_mean = np.mean(dataSeg1, 1)                                                                                  \n",
    "                                                                                                                     \n",
    "fig1, ax1 = plt.subplots(1)                                                                                          \n",
    "mne.viz.plot_topomap(dataSeg_mean, rawInRef.info, ch_type='eeg', axes=ax1)                                           "
   ]
  },
  {
   "cell_type": "code",
   "execution_count": null,
   "id": "31a3ea48",
   "metadata": {},
   "outputs": [],
   "source": [
    "# We will now plot several topographies over time from 60 to 80 seconds in 5 second steps.\n",
    "# This visualization allows us to explore the change in the spatial distribution of activity over time.\n",
    "\n",
    "timeIntvals = np.arange(60, 80, 5)                                                                                 \n",
    "fig2, axes = plt.subplots(1, len(timeIntvals) - 1, figsize=(15, 5))                                                \n",
    "for ind in range(len(timeIntvals) - 1):                                                                            \n",
    "    curr_int = [timeIntvals[ind], timeIntvals[ind + 1]]                                                            \n",
    "    timeIndx2 = rawInRef.time_as_index(curr_int)                                                                   \n",
    "    dataSegCurr = rawInRef.get_data(chanRange, timeIndx2[0], timeIndx2[1])                                         \n",
    "    dataMeanCurr = np.mean(dataSegCurr, 1)                                                                         \n",
    "                                                                                                                   \n",
    "    mne.viz.plot_topomap(dataMeanCurr, rawInRef.info, ch_type='eeg', axes=axes[ind])                               \n",
    "    axes[ind].set_title(str(timeIntvals[ind]) + ' - ' + str(timeIntvals[ind + 1]) + 'seconds', {'fontsize': 20})   \n",
    "                                                                                                                   "
   ]
  }
 ],
 "metadata": {
  "kernelspec": {
   "display_name": "Python 3 (ipykernel)",
   "language": "python",
   "name": "python3"
  },
  "language_info": {
   "codemirror_mode": {
    "name": "ipython",
    "version": 3
   },
   "file_extension": ".py",
   "mimetype": "text/x-python",
   "name": "python",
   "nbconvert_exporter": "python",
   "pygments_lexer": "ipython3",
   "version": "3.9.1"
  }
 },
 "nbformat": 4,
 "nbformat_minor": 5
}
