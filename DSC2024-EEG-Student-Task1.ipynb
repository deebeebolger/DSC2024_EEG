{
 "cells": [
  {
   "cell_type": "markdown",
   "id": "b33e13df",
   "metadata": {},
   "source": [
    "## Task 1\n",
    "\n",
    "\n",
    "For this task you will use the data from the Three Stimulus Auditory Oddball Task.\n",
    "James F Cavanagh and Davin Quinn (2021). EEG: Three-Stim Auditory Oddball and Rest in Acute and Chronic TBI.\n",
    "OpenNeuro. [Dataset] doi: 10.18112/openneuro.ds003522.v1.1.0\n",
    "\n",
    "Reference:\n",
    "Cavanagh JF, Wilson JK, Rieger RE, Gill D, Broadway JM, Story Remer JH, Fratzke V, Mayer AR, Quinn DK.\n",
    "ERPs predict symptomatic distress and recovery in sub-acute mild traumatic brain injury. Neuropsychologia. 2019 Sep;132:107125.\n",
    "doi: 10.1016/j.neuropsychologia.2019.107125. Epub 2019 Jun 19. PMID: 31228481; PMCID: PMC6702033.\n",
    "\n",
    "EEG was recorded from the following three groups of participants while they performed a three-stimulus auditory oddball task:\n",
    "- Control participants (group1)\n",
    "- Participants with sub-acute mild TBI (Traumatic Brain Injury) (Group0)\n",
    "- Participants with chronic TBI (group2)\n",
    "\n",
    "Three sessions of recording were carried out:\n",
    "Session 1: 3 to 14 days following injury\n",
    "Session 2: an average of 2 months post-injury.\n",
    "Session 3: an average of 4 months after session 1.\n",
    "\n",
    "In this task, the participants were presented with three different auditory stimuli:\n",
    "- a standard stimulus (presented 80% of the time)\n",
    "- a novel, non-target stimulus (presented 10% of the time)\n",
    "- a novel target stimulus (presented 10% of the time)\n",
    "\n",
    "The datasets related to this study are in the data folder and are entitled:\n",
    "- **sub-004_ses-01_task-ThreeStimAuditoryOddball_eeg_segment1.set** and corresponding associated **sub-004_ses-01_task-ThreeStimAuditoryOddball_eeg_segment1.fdt** file\n",
    "- **sub-004_ses-02_task-ThreeStimAuditoryOddball_eeg_segment1.set** and its corresponding **sub-004_ses-02_task-ThreeStimAuditoryOddball_eeg_segment1.fdt file**\n",
    "\n",
    "For this task, you will work from data from sessions 1 of the study, so you will load in the file: **sub-004_ses-01_task-ThreeStimAuditoryOddball_eeg_segment1.set**\n"
   ]
  },
  {
   "cell_type": "markdown",
   "id": "52b6143d",
   "metadata": {},
   "source": [
    "## Task 1 instructions\n",
    "\n",
    "Using the script **DSC-EEG-Script1_students** as a guide carry out the following:\n",
    "\n",
    "- To get you started, the code is provided for loading in and visualizing the raw data. \n",
    "- Extract the following dataset information:\n",
    "    - the sampling frequency (Hz)\n",
    "    - the names and the type of the channels\n",
    "    - the number of sample points\n",
    "    - the time vector \n",
    "- Determine and display the temporal resolution of the dataset. \n",
    "- Do you need to remove the DC component? Do this if needed.\n",
    "- What reference will you apply to the data? Plot the referenced data. \n",
    "- Can you spot any artifacts in the data? Can you identify the artifact?\n",
    "- Present a **temporal** and **spatial** visualization of the artifact. For the temporal visualization you can plot one or several individual electrodes. \n",
    "\n",
    "- Load in the dataset corresponding to the second session, **Session 2** and carry out the same visualisation and processing steps as for the first baseline run. Then compare the two datasets.\n",
    "\n",
    "Do you notice any differences between the two? \n",
    "If so, present figures that highlight these differences. \n"
   ]
  },
  {
   "cell_type": "code",
   "execution_count": null,
   "id": "c024b037",
   "metadata": {},
   "outputs": [],
   "source": [
    "# Put your code in cells here. Maybe a cell per answer...\n",
    "# Don't forget to import the required packages.\n",
    "# The matplotlib widget line faciltates the presentation of interactive plots.\n",
    "\n",
    "%matplotlib widget\n",
    "import mne\n",
    "import os\n",
    "import matplotlib.pyplot as plt\n",
    "\n",
    "\n",
    "# Help for loading in the *.set file:\n",
    "filename = 'sub-004_ses-01_task-ThreeStimAuditoryOddball_eeg_segment1.set' # This .set file will automatically look for its corresponding *.fdt file\n",
    "filepath = 'data'\n",
    "fullpath = os.path.join(filepath, filename)\n",
    "rawIn = mne.io.read_raw_eeglab(fullpath, preload=True)\n",
    "rawIn.plot()\n"
   ]
  },
  {
   "cell_type": "code",
   "execution_count": null,
   "id": "cefd6514",
   "metadata": {},
   "outputs": [],
   "source": []
  }
 ],
 "metadata": {
  "kernelspec": {
   "display_name": "Python 3 (ipykernel)",
   "language": "python",
   "name": "python3"
  },
  "language_info": {
   "codemirror_mode": {
    "name": "ipython",
    "version": 3
   },
   "file_extension": ".py",
   "mimetype": "text/x-python",
   "name": "python",
   "nbconvert_exporter": "python",
   "pygments_lexer": "ipython3",
   "version": "3.12.0"
  }
 },
 "nbformat": 4,
 "nbformat_minor": 5
}
