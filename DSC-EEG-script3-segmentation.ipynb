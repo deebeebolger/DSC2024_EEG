{
 "cells": [
  {
   "cell_type": "markdown",
   "id": "9cbcd74a",
   "metadata": {},
   "source": [
    "## Segmenting the continuous data to look at **evoked** activity\n",
    "\n",
    "We have been looking at the continuous data. But in cognitive science, we most often want to study the EEG activity\n",
    "in relation to a stimulus presented during an experiment.\n",
    "We call the activity that is elicited by a stimulus, the **evoked** activity.\n",
    "\n",
    "This type of EEG activity can only be obtained if we apply an experimental protocol in which stimuli are repeatedly\n",
    "presented at regular intervals; these repeated stimulus presentations are referred to as **trials**.\n",
    "To study this evoked activity, we create segments or epochs of data around each stimulus: the time of presentation of the stimulus\n",
    "is referred to as the T0 point and a time interval before and after this T0 is defined.\n",
    "The time interval preceding the T0 (stimulus presentation point) is called the **baseline**.\n",
    "The time interval following the T0 point is called the **post-stimulus interval** and it is in this interval that we study\n",
    "the change in activity that has been evoked by the stimulus.\n",
    "\n",
    "The changes in EEG activity evoked by the stimulus are called the \"event-related potentials\" (ERPs).\n",
    "These are essentially deflections (positive or negative) in activity that can be characterised by:\n",
    "- their latency: when after the stimulus (or event) they appear\n",
    "- their amplitude in micro-volts\n",
    "- their polarity (are they positive or negative going)\n",
    "\n",
    "Thanks to the huge number of ERP studies carried out over the years, researchers have been to attribute certain deflections\n",
    "to certain cognitive phenomenon. For example, semantic processing has been found to be reflected by an erp called the N400...\n",
    "a negative-going ERP that emerges around 400ms after the stimulus. In general, the greater the amplitude of the N400, the more\n",
    "a stimulus is semantically \"unexpected\". "
   ]
  },
  {
   "cell_type": "markdown",
   "id": "68353d39",
   "metadata": {},
   "source": [
    "### Current dataset\n",
    "\n",
    "For this example we will use a dataset from the following study:\n",
    "Oostenveld, R., Schoffelen, J.-M., & Simanova, I. (2021). FieldTrip tutorial - CuttingEEG 2021 (1.1)\n",
    "[Data set]. Zenodo. https://doi.org/10.5281/zenodo.5531370\n",
    "\n",
    "The study investigated semantic processing of stimuli presented as pictures (black line drawings on white background),\n",
    "visually displayed text or as auditory presented words. Stimuli consisted of concepts from three semantic categories:\n",
    "two relevant categories (animals, tools) and a task category that varied across subjects, either clothing or vegetables.\n",
    "\n",
    "The EEG data was recorded using the Brain Vision system and is in the Brain Vision format, which includes the following files:\n",
    "A text header file (.vhdr) containing meta data.\n",
    "A text marker file (.vmrk) containing information about events in the data.\n",
    "A binary data file (.eeg) containing the voltage values of the EEG."
   ]
  },
  {
   "cell_type": "code",
   "execution_count": null,
   "id": "f46204be",
   "metadata": {},
   "outputs": [],
   "source": [
    "import mne\n",
    "import os\n",
    "import pandas as pd\n",
    "\n",
    "fname = 'sub-02_task-language_eeg.vhdr'  # This contains the header file.\n",
    "fpath = os.path.join('data', 'sub-02', 'eeg')\n",
    "fullpath = os.path.join(fpath, fname)\n",
    "rawIn = mne.io.read_raw_brainvision(fullpath, preload=True)\n",
    "sfreq = rawIn.info['sfreq']"
   ]
  },
  {
   "cell_type": "markdown",
   "id": "c69f73b7",
   "metadata": {},
   "source": [
    "### Stop and think!\n",
    "\n",
    "- Has this dataset already been high-pass filtered to take out the DC offset (0Hz component)?\n",
    "- Where might we look to find out?\n",
    "- Can you find out what high-pass filter was applied (the cutoff frequency (hz))?"
   ]
  },
  {
   "cell_type": "code",
   "execution_count": null,
   "id": "d62616e6",
   "metadata": {},
   "outputs": [],
   "source": [
    "# Let's visualize the imported data...\n",
    "\n",
    "mne.viz.plot_raw(rawIn, scalings='auto', remove_dc=False)"
   ]
  },
  {
   "cell_type": "code",
   "execution_count": null,
   "id": "e32a2322",
   "metadata": {},
   "outputs": [],
   "source": [
    "# Extracting the event data from the raw dataset; this information is called \"annotations\"\n",
    "# We will integrate extra information about the events in th dataset into our dataset.\n",
    "\n",
    "EventFile = 'sub-02_task-language_eve.csv'\n",
    "fullpath_events = os.path.join(fpath, EventFile)\n",
    "eventsIn = pd.read_csv(fullpath_events, sep=';', header=0)  # Open up the event information using pandas.\n",
    "events, eventid = mne.events_from_annotations(rawIn)\n",
    "eventsIn = eventsIn.drop(['onset', 'duration', 'sample'], axis=1)\n",
    "eventsIn_dict = eventsIn.to_dict()\n",
    "eventsCat = eventsIn_dict['category']"
   ]
  },
  {
   "cell_type": "code",
   "execution_count": null,
   "id": "5e6fe18e",
   "metadata": {},
   "outputs": [],
   "source": [
    "# Let's carry out segmentation of the continuous\n",
    "# We will define the time limit before (tmin) and after (tmax) the T0, this will decide the length of each epoch.\n",
    "\n",
    "tmin, tmax = [-0.2, 1]  # The time limits defined in seconds.\n",
    "\n",
    "# Call of function to segment the data into epochs.\n",
    "\"\"\"\n",
    "We define the baseline as baseline=(tmin, 0), which means that we will normalise the \n",
    "post-stimulus interval (0 to 1seconds) in relation to the data that is -0.2seconds to 0 \n",
    "before the stimulus. \n",
    "\"\"\"\n",
    "epochData = mne.Epochs(rawIn, events, event_id=eventid, tmin=tmin, tmax=tmax, reject=None, baseline=(tmin, 0),\n",
    "                       preload=True)\n"
   ]
  },
  {
   "cell_type": "code",
   "execution_count": null,
   "id": "a9a0b938",
   "metadata": {},
   "outputs": [],
   "source": [
    "# Let's plot those epochs that correspond to the \"cow\" stimulus. We know from the events file that S111 corresponds\n",
    "# to the cow stimulus.\n",
    "epochData['Stimulus/S111'].plot(events=events, event_id=eventid, butterfly=False)\n",
    "\n",
    "# We will extract only those epochs that correspond to the \"cow\" and the \"pen\" stimuli.\n",
    "# Then we will average across the epochs for each to compute the ERPs or the evoked activity.\n",
    "epochCow = epochData['Stimulus/S111']\n",
    "epochPen = epochData['Stimulus/S181']\n",
    "evokedCow = epochCow.average()\n",
    "evokedPen = epochPen.average()\n",
    "\n",
    "# Now we can plot and compare the evoked activity of both.\n",
    "mne.viz.plot_compare_evokeds(dict(cow=evokedCow, pen=evokedPen), legend='upper left', show_sensors='upper right')\n"
   ]
  }
 ],
 "metadata": {
  "kernelspec": {
   "display_name": "Python 3 (ipykernel)",
   "language": "python",
   "name": "python3"
  },
  "language_info": {
   "codemirror_mode": {
    "name": "ipython",
    "version": 3
   },
   "file_extension": ".py",
   "mimetype": "text/x-python",
   "name": "python",
   "nbconvert_exporter": "python",
   "pygments_lexer": "ipython3",
   "version": "3.9.1"
  }
 },
 "nbformat": 4,
 "nbformat_minor": 5
}
