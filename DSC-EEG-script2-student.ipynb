{
 "cells": [
  {
   "cell_type": "markdown",
   "id": "37cd555a",
   "metadata": {},
   "source": [
    "## Script 2: Detection, manipulation and removal of noisy electrodes\n",
    "\n",
    "The detection of noisy data and, in particular, noisy electrodes is an important step when preparing EEG for analysis.\n",
    "We can detect noisy electrodes by considering the following:\n",
    "- the amplitude of activity in the time-dependent signal\n",
    "- the region of the brain over which certain activity is concentrated. For example, we know that eye-blinks are characterised\n",
    "by positive-going activity over frontal electrodes of the right and left hemispheres.\n",
    "- by considering the frequency content of the electrode signals. High energy in the low frequency part of a spectrum indicates\n",
    "activity that is slow, often of high amplitude; activity very often related to movements.\n",
    "\n",
    "Below we will plot the power spectral density (PSD) of all electrodes for frequencies from 0.5Hz to 40Hz.\n",
    "The PSD will be plotted in decibels (dB)"
   ]
  },
  {
   "cell_type": "code",
   "execution_count": null,
   "id": "2701bfc9",
   "metadata": {},
   "outputs": [],
   "source": [
    "import mne\n",
    "import os\n",
    "import matplotlib.pyplot as plt\n",
    "import numpy as np\n",
    "\n",
    "# We begin by loading in .fif file that we saved at the end of script 1.\n",
    "fnameIn = 'sub-001_eeg_sub-001_task-think1_eeg-hpf-ref_raw.fif'\n",
    "fpathIn = 'data'\n",
    "fullnameIn = os.path.join(fpathIn, fnameIn, preload=True)\n",
    "rawIn = mne.io.read_raw_fif(fullnameIn)"
   ]
  },
  {
   "cell_type": "code",
   "execution_count": null,
   "id": "06328834",
   "metadata": {},
   "outputs": [],
   "source": [
    "# Plot the power spectral density (PSD)\n",
    "\n",
    "%matplotlib\n",
    "\n",
    "mne.viz.plot_raw_psd(rawIn, fmain=0.5, fmax=80, tmin=25, tmax=50, picks='eeg', dB=True)"
   ]
  },
  {
   "cell_type": "code",
   "execution_count": null,
   "id": "37784011",
   "metadata": {},
   "outputs": [],
   "source": [
    "# We can calculate the PSD and plot the PSD values and the frequencies.\n",
    "\n",
    "rawSpectre = rawIn.compute_psd(method='multitaper', fmin=0.5, fmax=80, tmin=None, tmax=None, picks='eeg')\n",
    "PSD, freqs = rawSpectre.get_data(exclude=(), return_freqs=True)\n",
    "print(f'The PSD will be plotted for these {freqs}')\n",
    "\n",
    "# We can then plot the spectra by applying .plot() method\n",
    "rawSpectre.plot()"
   ]
  },
  {
   "cell_type": "code",
   "execution_count": null,
   "id": "7c6b5d8d",
   "metadata": {},
   "outputs": [],
   "source": [
    "# We could also plot the spectrum of a subset of electrodes.\n",
    "\n",
    "chanSelect = ['Fpz', 'Fz', 'FCz', 'Cz', 'CPz', 'Pz']\n",
    "rawSpectre.plot(picks=chanSelect)"
   ]
  },
  {
   "cell_type": "markdown",
   "id": "eac95852",
   "metadata": {},
   "source": [
    "## Visualizing the spatial distribution of frequency band activity\n",
    "\n",
    "We can also plot the topography of the activity in the different frequency bands.\n",
    "We can plot the topographies because we added the correct montage to the dataset in script1. \n",
    "\n",
    "For EEG analyses we consider the following frequency bands:\n",
    "- theta (4-7Hz)\n",
    "- alpha (8-12Hz)\n",
    "- beta (12-30Hz)\n",
    "- gamma (>30Hz)"
   ]
  },
  {
   "cell_type": "code",
   "execution_count": null,
   "id": "3e2833e9",
   "metadata": {},
   "outputs": [],
   "source": [
    "# We begin by defining the frequency bands.\n",
    "\n",
    "fbands = {'Theta (4-7Hz)': (4,7), 'Alpha (8-12 Hz)': (8, 12), 'Beta (12-30 Hz)': (12, 30),\n",
    "         'Gamma (30-45 Hz)': (30, 45)}\n",
    "rawSpectre.plot_topomap(bands=fbands, ch_type='eeg')"
   ]
  },
  {
   "cell_type": "markdown",
   "id": "ec9951f5",
   "metadata": {},
   "source": [
    "## Detecting and marking noisy electrodes\n",
    "\n",
    "On the basis of the spectrum plotted, are we able to determine any noisy electrodes? \n",
    "\n",
    "In MNE-Python, when we want to mark an electrode as **noisy** or **bad** we can add it to the **bads** attribute\n",
    "of the *.info* object.\n",
    "The following gives an example of this; here we presume that Fpz and Oz are noisy electrodes."
   ]
  },
  {
   "cell_type": "code",
   "execution_count": null,
   "id": "4b257a75",
   "metadata": {},
   "outputs": [],
   "source": [
    "badChannels = ['Fpz', 'Oz']\n",
    "rawIn.info['bads'] = badChannels"
   ]
  },
  {
   "cell_type": "markdown",
   "id": "11e7a9ee",
   "metadata": {},
   "source": [
    "## Manual annotation of EEG data\n",
    "\n",
    "We can manually annotate the EEG to mark eye-blinks, electrode-jumps, muscular artifacts.\n",
    "We will open the interactive window. We define 'a' the key to press when we want to annotate the data."
   ]
  },
  {
   "cell_type": "code",
   "execution_count": null,
   "id": "c8afe1eb",
   "metadata": {},
   "outputs": [],
   "source": [
    "fig = rawIn.plot()\n",
    "fig.canvas.key_press_event('a')"
   ]
  },
  {
   "cell_type": "markdown",
   "id": "e060bc9a",
   "metadata": {},
   "source": [
    "## Automatic detection of eye-blinks\n",
    "\n",
    "MNE has a function that automatically identifies eye-blinks.\n",
    "It allows you to create segments of data centred around the identified eye-blink. \n",
    "We can, thus, plot the spatial distribution of activity corresponding to eye-blinks.\n",
    "However, crucially, we need to define a channel on which eye-blniks clearly appear. \n",
    "Here we use the electrode AF8, but maybe there are better choices."
   ]
  },
  {
   "cell_type": "code",
   "execution_count": null,
   "id": "0afb350c",
   "metadata": {},
   "outputs": [],
   "source": [
    "eogev_elec = 'AF8'           #Put the label of your selected electrode here...try different electrodes.\n",
    "eog_epochs = mne.preprocessing.create_eog_epochs(rawIn, ch_name=eogev_elec, reject_by_annotation=False)\n",
    "eog_epochs.apply_baseline(baseline=(None, -0.2))  # We go from the start of the interval to the -200ms before 0ms\n",
    "eog_epochs.average().plot_joint()\n",
    "eog_epochs.average().plot_topomap()"
   ]
  }
 ],
 "metadata": {
  "kernelspec": {
   "display_name": "Python 3 (ipykernel)",
   "language": "python",
   "name": "python3"
  },
  "language_info": {
   "codemirror_mode": {
    "name": "ipython",
    "version": 3
   },
   "file_extension": ".py",
   "mimetype": "text/x-python",
   "name": "python",
   "nbconvert_exporter": "python",
   "pygments_lexer": "ipython3",
   "version": "3.9.1"
  }
 },
 "nbformat": 4,
 "nbformat_minor": 5
}
